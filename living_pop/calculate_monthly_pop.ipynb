{
 "cells": [
  {
   "cell_type": "code",
   "execution_count": 25,
   "metadata": {},
   "outputs": [],
   "source": [
    "import os\n",
    "import numpy as np\n",
    "import pandas as pd"
   ]
  },
  {
   "cell_type": "code",
   "execution_count": 26,
   "metadata": {},
   "outputs": [],
   "source": [
    "dir_ = './data/input/'\n",
    "list_csv = os.listdir(dir_)"
   ]
  },
  {
   "cell_type": "code",
   "execution_count": 27,
   "metadata": {},
   "outputs": [
    {
     "data": {
      "text/plain": [
       "['2019.csv',\n",
       " 'LOCAL_PEOPLE_GU_2020.csv',\n",
       " 'LOCAL_PEOPLE_GU_2021.csv',\n",
       " 'LOCAL_PEOPLE_GU_2022.csv']"
      ]
     },
     "execution_count": 27,
     "metadata": {},
     "output_type": "execute_result"
    }
   ],
   "source": [
    "list_csv"
   ]
  },
  {
   "cell_type": "code",
   "execution_count": 31,
   "metadata": {},
   "outputs": [],
   "source": [
    "list_df = []\n",
    "for csv in list_csv:\n",
    "  df_tmp = pd.read_csv(f'{dir_}{csv}', encoding='cp949')\n",
    "  df_tmp.loc[:,'기준일ID'] = pd.to_datetime(df_tmp.loc[:,'기준일ID'], format='%Y%m%d')\n",
    "  df_tmp.loc[:,'month'] = df_tmp.loc[:,'기준일ID'].dt.month\n",
    "  df_tmp.loc[:,'year'] = df_tmp.loc[:,'기준일ID'].dt.year\n",
    "  male_columns = [x for x in df_tmp.columns if '남자' in x]\n",
    "  female_columns = [x for x in df_tmp.columns if '여자' in x]\n",
    "  df_tmp.loc[:,'male_pop'] = df_tmp.loc[:,male_columns].sum(axis=1)\n",
    "  df_tmp.loc[:,'female_pop'] = df_tmp.loc[:,female_columns].sum(axis=1)\n",
    "  df_tmp_by_month = df_tmp.loc[:,['year','month','자치구코드','시간대구분','male_pop','female_pop']].groupby(['year','month','자치구코드','시간대구분'], as_index=False).mean()\n",
    "\n",
    "  list_df.append(df_tmp_by_month)\n",
    "\n",
    "df_result = pd.concat(list_df, ignore_index=True)"
   ]
  },
  {
   "cell_type": "code",
   "execution_count": 34,
   "metadata": {},
   "outputs": [],
   "source": [
    "df_result.to_csv('./data/output/living_pop.csv', index=False)"
   ]
  },
  {
   "cell_type": "code",
   "execution_count": null,
   "metadata": {},
   "outputs": [],
   "source": []
  }
 ],
 "metadata": {
  "kernelspec": {
   "display_name": "geo",
   "language": "python",
   "name": "python3"
  },
  "language_info": {
   "codemirror_mode": {
    "name": "ipython",
    "version": 3
   },
   "file_extension": ".py",
   "mimetype": "text/x-python",
   "name": "python",
   "nbconvert_exporter": "python",
   "pygments_lexer": "ipython3",
   "version": "3.11.0"
  }
 },
 "nbformat": 4,
 "nbformat_minor": 2
}
